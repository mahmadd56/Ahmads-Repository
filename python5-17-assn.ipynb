{
 "cells": [
  {
   "cell_type": "markdown",
   "metadata": {},
   "source": [
    "# Python Classification Problems #"
   ]
  },
  {
   "cell_type": "markdown",
   "metadata": {},
   "source": [
    "## Part 1 ##\n",
    "\n",
    "In the file 'studentdata.csv' on the class Github page are some measurements and survey questions from a group of 33 students.  Import this as a Pandas dataframe and complete each of the following:"
   ]
  },
  {
   "cell_type": "markdown",
   "metadata": {},
   "source": [
    "1. Use Seaborn to produce a scatter plot showing sex (sx1male [1 = male]) as a function of grip strength (grip).  With reference to the sigmoid function, do you think a logistic regression would be appropriate for predicting sex as a function of grip strength?"
   ]
  },
  {
   "cell_type": "markdown",
   "metadata": {},
   "source": [
    "2.  Use the Scikit-Learn LogisticRegression class to produce a logisitic regression model for this data.  In the formula $y = p(x) = 1/(1 + exp(-(m x + b))$, what are $m$ and $b$?  (See the \"Attributes\" secttion of [this URL](https://scikit-learn.org/stable/modules/generated/sklearn.linear_model.LogisticRegression.html) for how to find the coefficients of the Scikit-Learn model.)"
   ]
  },
  {
   "cell_type": "markdown",
   "metadata": {},
   "source": [
    "3. At the usual URL is another data set 'newstudentdata.csv' with new observations of these variables.  (Think of this as your 'test' data.)  What is the accuracy of your existing model on this new data?  (Do **not** construct a new model for this data.  Use the \".predict()\" method.)"
   ]
  },
  {
   "cell_type": "markdown",
   "metadata": {},
   "source": [
    " 4. Produce a plot of the graph of this logistical regression model function $p(x)$ superimposed over your scatter plot in part 1."
   ]
  },
  {
   "cell_type": "markdown",
   "metadata": {},
   "source": [
    "5. Recall that by default the logistic regression classification algorithm uses probability $p = .5$ to produce a *decision boundary* between one category and another. Using some algebra, find the $x$--value where the decision boundary produced by the model is located **and** add a vertical line corresponding to this boundary to your plot in part~(3).  (Use matplotlib plot(x,y)?)"
   ]
  },
  {
   "cell_type": "markdown",
   "metadata": {},
   "source": [
    "6. Use SKLearn Logistic Regression to produce a model showing sex as a function of **both** grip strength and height. Is this model more accurate than your first model?  Explain."
   ]
  },
  {
   "cell_type": "markdown",
   "metadata": {},
   "source": [
    "7. Use Searborn to produce a scatter plot showing sex as a funcion of grip strength *and* height.  (Let 'hue' be determiend by sex.)  Superimpose the $p = 0.5$ decision boundary on your scatter plot, but note this boundary won't be a vertical line."
   ]
  },
  {
   "cell_type": "markdown",
   "metadata": {},
   "source": [
    "## Part 2 ##\n",
    "\n",
    "The goal of this part is to use the SKLearn GaussianNB to model sex as a function of the same two variables as above and compare their accuracy."
   ]
  },
  {
   "cell_type": "markdown",
   "metadata": {},
   "source": [
    "1. Use Seaborn to produce *histograms* of grip strength--one overlaying the other--where the color of the histogram is determined by sex.  If someone reported a grip strength of 150 would you guess male or female for the sex?  Explain."
   ]
  },
  {
   "cell_type": "markdown",
   "metadata": {},
   "source": [
    "2. Use the SKLearn GaussianNB to produce a model for sex as a function of grip strength.  Use the newstudentdata.csv and the .predict() method to determine the accuracy of your model.  How does it compare to logistic regression?"
   ]
  },
  {
   "cell_type": "markdown",
   "metadata": {},
   "source": [
    "3. Use the SKLearn GaussianNB to produce a model for sex as a function of grip strength **and** height.  Of the four models you've produced.  Which seems to be the most accuracy?  Explain.  "
   ]
  },
  {
   "cell_type": "markdown",
   "metadata": {},
   "source": [
    "## Part 3 ##"
   ]
  },
  {
   "cell_type": "markdown",
   "metadata": {},
   "source": [
    "At the class Github page is a 'more-logistic.csv' file containing 150 observations of (x,y) pairs and a categorical variable 'categ'.  "
   ]
  },
  {
   "cell_type": "markdown",
   "metadata": {},
   "source": [
    "1. Create a train-test split of the data with 30% of the data in the test set."
   ]
  },
  {
   "cell_type": "markdown",
   "metadata": {},
   "source": [
    "2. Use the train data to create a logistic regression model for categ as a function of the (x,y) variables.  Using the test data, what is the accuracy of this model?"
   ]
  },
  {
   "cell_type": "markdown",
   "metadata": {},
   "source": [
    "3. Use Seaborn to make a scatter plot showing the value of categ (hue) as a function of the (x,y) variables.  Do you think a linear decision boundary for logistic regression makes a good model for this data? **Idea:**  Just as with polynomial regression, try adding a squared variables to improve on your model.  Compare the accuracy of this model with the one in the previous question. "
   ]
  }
 ],
 "metadata": {
  "kernelspec": {
   "display_name": "Python 3",
   "language": "python",
   "name": "python3"
  },
  "language_info": {
   "codemirror_mode": {
    "name": "ipython",
    "version": 3
   },
   "file_extension": ".py",
   "mimetype": "text/x-python",
   "name": "python",
   "nbconvert_exporter": "python",
   "pygments_lexer": "ipython3",
   "version": "3.11.6"
  }
 },
 "nbformat": 4,
 "nbformat_minor": 4
}
